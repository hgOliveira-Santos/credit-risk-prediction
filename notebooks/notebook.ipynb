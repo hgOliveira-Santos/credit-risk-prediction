{
 "cells": [
  {
   "cell_type": "markdown",
   "id": "c04bdc09",
   "metadata": {},
   "source": [
    "add the project root to python path"
   ]
  },
  {
   "cell_type": "code",
   "execution_count": 11,
   "id": "6746ffd0",
   "metadata": {},
   "outputs": [],
   "source": [
    "import sys\n",
    "import os\n",
    "\n",
    "project_root = os.path.abspath(os.path.join(os.getcwd(), '..'))\n",
    "if project_root not in sys.path:\n",
    "    sys.path.insert(0, project_root)"
   ]
  },
  {
   "cell_type": "markdown",
   "id": "372d508d",
   "metadata": {},
   "source": [
    "Importações\n"
   ]
  },
  {
   "cell_type": "code",
   "execution_count": null,
   "id": "d75cdb54",
   "metadata": {},
   "outputs": [],
   "source": [
    "import pandas as pd\n",
    "import numpy as np\n",
    "\n",
    "import config"
   ]
  },
  {
   "cell_type": "code",
   "execution_count": null,
   "id": "1e4326ac",
   "metadata": {},
   "outputs": [],
   "source": [
    "# Define a URL para o conjunto de dados a ser utilizado\n",
    "url = 'https://archive.ics.uci.edu/ml/machine-learning-databases/statlog/german/german.data'"
   ]
  },
  {
   "cell_type": "markdown",
   "id": "86516d4e",
   "metadata": {},
   "source": [
    "leitura dos dados"
   ]
  },
  {
   "cell_type": "code",
   "execution_count": null,
   "id": "425e61ed",
   "metadata": {},
   "outputs": [],
   "source": [
    "# Carrega o conjunto de dados em um DataFrame\n",
    "df = pd.read_csv(url, sep='\\s+', header=None, names=config.COLUMN_NAMES)"
   ]
  },
  {
   "cell_type": "code",
   "execution_count": null,
   "id": "299f6298",
   "metadata": {},
   "outputs": [
    {
     "name": "stdout",
     "output_type": "stream",
     "text": [
      "Dimensões do DataFrame: (1000, 21)\n",
      "\n",
      "Primeiras 5 linhas:\n",
      "\n",
      "  checking_account_status  duration_in_month credit_history purpose  \\\n",
      "0                     A11                  6            A34     A43   \n",
      "1                     A12                 48            A32     A43   \n",
      "2                     A14                 12            A34     A46   \n",
      "3                     A11                 42            A32     A42   \n",
      "4                     A11                 24            A33     A40   \n",
      "\n",
      "   credit_amount savings_account_bonds present_employment_since  \\\n",
      "0           1169                   A65                      A75   \n",
      "1           5951                   A61                      A73   \n",
      "2           2096                   A61                      A74   \n",
      "3           7882                   A61                      A74   \n",
      "4           4870                   A61                      A73   \n",
      "\n",
      "   installment_rate_percent personal_status_and_sex other_debtors_guarantors  \\\n",
      "0                         4                     A93                     A101   \n",
      "1                         2                     A92                     A101   \n",
      "2                         2                     A93                     A101   \n",
      "3                         2                     A93                     A103   \n",
      "4                         3                     A93                     A101   \n",
      "\n",
      "   ...  property age_in_years  other_installment_plans housing  \\\n",
      "0  ...      A121           67                     A143    A152   \n",
      "1  ...      A121           22                     A143    A152   \n",
      "2  ...      A121           49                     A143    A152   \n",
      "3  ...      A122           45                     A143    A153   \n",
      "4  ...      A124           53                     A143    A153   \n",
      "\n",
      "  number_of_existing_credits   job number_of_dependents  telephone  \\\n",
      "0                          2  A173                    1       A192   \n",
      "1                          1  A173                    1       A191   \n",
      "2                          1  A172                    2       A191   \n",
      "3                          1  A173                    2       A191   \n",
      "4                          2  A173                    2       A191   \n",
      "\n",
      "  foreign_worker risk  \n",
      "0           A201    1  \n",
      "1           A201    2  \n",
      "2           A201    1  \n",
      "3           A201    1  \n",
      "4           A201    2  \n",
      "\n",
      "[5 rows x 21 columns]\n"
     ]
    }
   ],
   "source": [
    "# Exibe as dimensões e as 5 primeiras linhas do DataFrame\n",
    "print(\"Dimensões do DataFrame:\", df.shape)\n",
    "print(\"\\nPrimeiras 5 linhas:\\n\")\n",
    "print(df.head(5))\n"
   ]
  },
  {
   "cell_type": "code",
   "execution_count": 19,
   "id": "ef44440b",
   "metadata": {},
   "outputs": [
    {
     "name": "stdout",
     "output_type": "stream",
     "text": [
      "checking_account_status       object\n",
      "duration_in_month              int64\n",
      "credit_history                object\n",
      "purpose                       object\n",
      "credit_amount                  int64\n",
      "savings_account_bonds         object\n",
      "present_employment_since      object\n",
      "installment_rate_percent       int64\n",
      "personal_status_and_sex       object\n",
      "other_debtors_guarantors      object\n",
      "present_residence_since        int64\n",
      "property                      object\n",
      "age_in_years                   int64\n",
      "other_installment_plans       object\n",
      "housing                       object\n",
      "number_of_existing_credits     int64\n",
      "job                           object\n",
      "number_of_dependents           int64\n",
      "telephone                     object\n",
      "foreign_worker                object\n",
      "risk                           int64\n",
      "dtype: object\n"
     ]
    }
   ],
   "source": [
    "print(df.dtypes)"
   ]
  },
  {
   "cell_type": "code",
   "execution_count": 20,
   "id": "cf614537",
   "metadata": {},
   "outputs": [
    {
     "data": {
      "text/plain": [
       "array([67, 22, 49, 45, 53, 35, 61, 28, 25, 24, 60, 32, 44, 31, 48, 26, 36,\n",
       "       39, 42, 34, 63, 27, 30, 57, 33, 37, 58, 23, 29, 52, 50, 46, 51, 41,\n",
       "       40, 66, 47, 56, 54, 20, 21, 38, 70, 65, 74, 68, 43, 55, 64, 75, 19,\n",
       "       62, 59])"
      ]
     },
     "execution_count": 20,
     "metadata": {},
     "output_type": "execute_result"
    }
   ],
   "source": [
    "df['age_in_years'].unique()"
   ]
  },
  {
   "cell_type": "code",
   "execution_count": 35,
   "id": "16bb5c1e",
   "metadata": {},
   "outputs": [
    {
     "name": "stdout",
     "output_type": "stream",
     "text": [
      "checking_account_status                                  [A11, A12, A14, A13]\n",
      "credit_history                                      [A34, A32, A33, A30, A31]\n",
      "purpose                     [A43, A46, A42, A40, A41, A49, A44, A45, A410,...\n",
      "savings_account_bonds                               [A65, A61, A63, A64, A62]\n",
      "present_employment_since                            [A75, A73, A74, A71, A72]\n",
      "personal_status_and_sex                                  [A93, A92, A91, A94]\n",
      "other_debtors_guarantors                                   [A101, A103, A102]\n",
      "property                                             [A121, A122, A124, A123]\n",
      "other_installment_plans                                    [A143, A141, A142]\n",
      "housing                                                    [A152, A153, A151]\n",
      "job                                                  [A173, A172, A174, A171]\n",
      "telephone                                                        [A192, A191]\n",
      "foreign_worker                                                   [A201, A202]\n",
      "dtype: object\n"
     ]
    }
   ],
   "source": [
    "# Seleciona apenas as colunas do tipo 'object'\n",
    "object_cols = df.select_dtypes(include='object')\n",
    "\n",
    "# Aplica o método unique() para cada coluna do tipo 'object'\n",
    "unique_values_series = object_cols.apply(lambda col: col.unique())\n",
    "\n",
    "# Exibe os possíveis valores para cada coluna do tipo 'object'ArithmeticError\n",
    "print(unique_values_series)"
   ]
  },
  {
   "cell_type": "code",
   "execution_count": 36,
   "id": "2b283a45",
   "metadata": {},
   "outputs": [
    {
     "name": "stdout",
     "output_type": "stream",
     "text": [
      "duration_in_month             [6, 48, 12, 42, 24, 36, 30, 15, 9, 10, 7, 60, ...\n",
      "credit_amount                 [1169, 5951, 2096, 7882, 4870, 9055, 2835, 694...\n",
      "installment_rate_percent                                           [4, 2, 3, 1]\n",
      "present_residence_since                                            [4, 2, 3, 1]\n",
      "age_in_years                  [67, 22, 49, 45, 53, 35, 61, 28, 25, 24, 60, 3...\n",
      "number_of_existing_credits                                         [2, 1, 3, 4]\n",
      "number_of_dependents                                                     [1, 2]\n",
      "risk                                                                     [1, 2]\n",
      "dtype: object\n"
     ]
    }
   ],
   "source": [
    "# Seleciona apenas as colunas do tipo 'object'\n",
    "object_cols = df.select_dtypes(include='int64')\n",
    "\n",
    "# Aplica o método unique() para cada coluna do tipo 'object'\n",
    "unique_values_series = object_cols.apply(lambda col: col.unique())\n",
    "\n",
    "# Exibe os possíveis valores para cada coluna do tipo 'object'ArithmeticError\n",
    "print(unique_values_series)"
   ]
  },
  {
   "cell_type": "markdown",
   "id": "4d8f1e02",
   "metadata": {},
   "source": [
    "# Dica: A coluna 'risk' virá com os valores 1 (bom) e 2 (mau).\n",
    "# É uma boa prática transformar isso para 0 e 1 para facilitar a modelagem.\n",
    "# df['risk'] = df['risk'].map({1: 0, 2: 1}) # 0 = Bom Risco, 1 = Mau Risco"
   ]
  }
 ],
 "metadata": {
  "kernelspec": {
   "display_name": ".venv",
   "language": "python",
   "name": "python3"
  },
  "language_info": {
   "codemirror_mode": {
    "name": "ipython",
    "version": 3
   },
   "file_extension": ".py",
   "mimetype": "text/x-python",
   "name": "python",
   "nbconvert_exporter": "python",
   "pygments_lexer": "ipython3",
   "version": "3.11.2"
  }
 },
 "nbformat": 4,
 "nbformat_minor": 5
}
