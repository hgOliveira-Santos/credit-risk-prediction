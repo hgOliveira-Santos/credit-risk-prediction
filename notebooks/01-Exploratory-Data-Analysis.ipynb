{
 "cells": [
  {
   "cell_type": "markdown",
   "id": "f0850e9f",
   "metadata": {},
   "source": [
    "# Projeto - Previsão de Risco de Crédito\n",
    "\n",
    "## 1. Introdução\n",
    "\n",
    "A análise de risco de crédito é um dos problemas mais clássicos e de maior impacto no setor financeiro. A concessão de crédito, seja para pessoas físicas ou jurídicas, é a base da atividade bancária, mas carrega consigo o risco inerente da inadimplência. Uma decisão de crédito equivocada pode levar a perdas financeiras significativas, enquanto uma política excessivamente conservadora pode resultar na perda de bons clientes e oportunidades de negócio valiosas.\n",
    "\n",
    "Neste contexto, a ciência de dados emerge como uma ferramenta estratégica, permitindo que as instituições financeiras migrem de análises subjetivas e manuais para modelos preditivos objetivos, consistentes e escaláveis.\n",
    "\n",
    "### 1.1. Descrição do problema\n",
    "\n",
    "O problema central consiste em desenvolver um sistema inteligente capaz de classificar novos solicitantes de crédito em duas categorias: \"bom risco\" (provável que pague o empréstimo) e \"mau risco\" (provável que não pague o empréstimo).\n",
    "\n",
    "Para esta análise, será utilizado conjunto de dados Statlog (German Credit Data), proveniente do repositório da UCI. Este dataset contém informações sobre 1.000 solicitantes de crédito na Alemanha, cada um descrito por 20 atributos, que incluem:\n",
    "\n",
    "> Informações demográficas: idade, sexo, status civil.\n",
    "> \n",
    "> Informações financeiras: status da conta corrente, histórico de crédito, valor e propósito do empréstimo, existência de poupança.\n",
    "> \n",
    "> Informações profissionais e de moradia: tempo de emprego, tipo de trabalho, tipo de moradia.\n",
    "\n",
    "A variável-alvo, risk, é binária, indicando se o cliente foi classificado como um bom ou mau pagador. Um desafio técnico relevante neste dataset é o desbalanceamento de classes, onde o número de \"bons pagadores\" é significativamente maior que o de \"maus pagadores\". Modelos treinados em dados desbalanceados podem se tornar tendenciosos, o que pode fazê-los performar mal ao identificar a classe minoritária, que é justamente a mais crítica para o negócio.\n",
    "\n",
    "### 1.2. Objetivo\n",
    "\n",
    "O objetivo principal deste projeto é construir um modelo de machine learning de classificação binária que preveja com alta acurácia e, mais importante, com alto poder de discriminação, a probabilidade de um solicitante de crédito se tornar inadimplente."
   ]
  },
  {
   "cell_type": "markdown",
   "id": "2bd60b51",
   "metadata": {},
   "source": [
    "## 2. Configuração do Ambiente "
   ]
  },
  {
   "cell_type": "markdown",
   "id": "372d508d",
   "metadata": {},
   "source": [
    "### 2.1 Importação de Bibliotecas"
   ]
  },
  {
   "cell_type": "code",
   "execution_count": null,
   "id": "d75cdb54",
   "metadata": {},
   "outputs": [],
   "source": [
    "import pandas as pd\n",
    "import numpy as np\n",
    "import skrub\n",
    "import logging\n",
    "import contextlib\n",
    "\n",
    "from src.data_ingestion import ingest_credit_data\n",
    "from src import config"
   ]
  },
  {
   "cell_type": "markdown",
   "id": "1b33598f",
   "metadata": {},
   "source": [
    "## 3. Carregamento dos Dados"
   ]
  },
  {
   "cell_type": "markdown",
   "id": "86516d4e",
   "metadata": {},
   "source": [
    "### 3.1. Leitura do Conjunto de Dados"
   ]
  },
  {
   "cell_type": "code",
   "execution_count": 2,
   "id": "7f757d40",
   "metadata": {},
   "outputs": [
    {
     "name": "stdout",
     "output_type": "stream",
     "text": [
      "2025-10-22 16:27:06 - INFO - >>> INICIANDO O PIPELINE DE INGESTÃO DE DADOS <<<\n",
      "2025-10-22 16:27:06 - INFO - Iniciando download de https://archive.ics.uci.edu/static/public/144/statlog+german+credit+data.zip\n",
      "2025-10-22 16:27:07 - INFO - Arquivos extraídos com sucesso para: C:\\Users\\user\\OneDrive\\Documentos\\HG\\Projetos\\Data Science\\credit-risk-prediction\\data\\raw\n",
      "2025-10-22 16:27:07 - INFO - Procurando por arquivo '.data' em 'C:\\Users\\user\\OneDrive\\Documentos\\HG\\Projetos\\Data Science\\credit-risk-prediction\\data\\raw'...\n",
      "2025-10-22 16:27:07 - INFO - Arquivo alvo encontrado: 'german.data'\n",
      "2025-10-22 16:27:07 - INFO - Arquivo renomeado para: 'credit_data.data'\n",
      "2025-10-22 16:27:07 - INFO - Arquivo movido para: 'C:\\Users\\user\\OneDrive\\Documentos\\HG\\Projetos\\Data Science\\credit-risk-prediction\\data\\processed'\n",
      "2025-10-22 16:27:07 - INFO - Arquivo extra 'german.data-numeric' removido.\n",
      "2025-10-22 16:27:07 - INFO - Arquivo extra 'german.doc' removido.\n",
      "2025-10-22 16:27:07 - INFO - Arquivo extra 'Index' removido.\n",
      "2025-10-22 16:27:07 - INFO - Carregando dados de 'C:\\Users\\user\\OneDrive\\Documentos\\HG\\Projetos\\Data Science\\credit-risk-prediction\\data\\processed\\credit_data.data' para o DataFrame.\n",
      "2025-10-22 16:27:07 - INFO - DataFrame carregado com sucesso.\n",
      "2025-10-22 16:27:07 - INFO - >>> PIPELINE DE INGESTÃO DE DADOS CONCLUÍDO COM SUCESSO <<<\n"
     ]
    }
   ],
   "source": [
    "# Utiliza a URL definida no arquivo de configuração\n",
    "url = config.GERMAN_CREDIT_ZIP_URL\n",
    "\n",
    "# Carrega o arquivo através da URL\n",
    "df = ingest_credit_data(url, True)"
   ]
  },
  {
   "cell_type": "markdown",
   "id": "eb6a779e",
   "metadata": {},
   "source": [
    "### 3.2. Visualização Inicial"
   ]
  },
  {
   "cell_type": "code",
   "execution_count": null,
   "id": "527a98fd",
   "metadata": {},
   "outputs": [
    {
     "name": "stderr",
     "output_type": "stream",
     "text": [
      "Processing column  21 / 21\n"
     ]
    }
   ],
   "source": [
    "# Gera um relatório exploratório interativo da tabela utilizando o TableReport do pacote skrub,\n",
    "# que será exibido no navegador. Os logs são temporariamente ocultados durante sua criação.\n",
    "with open(os.devnull, 'w') as f, contextlib.redirect_stderr(f):\n",
    "    skrub.TableReport(df).open()"
   ]
  },
  {
   "cell_type": "markdown",
   "id": "2fcb8613",
   "metadata": {},
   "source": [
    "## 4. Limpeza dos Dados"
   ]
  },
  {
   "cell_type": "markdown",
   "id": "aa8213fc",
   "metadata": {},
   "source": [
    "### 4.1. Verificação de dados ausentes, nulos e duplicados"
   ]
  },
  {
   "cell_type": "code",
   "execution_count": null,
   "id": "7c6cb3de",
   "metadata": {},
   "outputs": [],
   "source": [
    "# Verifica o número de valores ausentes por coluna\n",
    "missing_values = df.isnull().sum()\n",
    "print(\"Valores ausentes por coluna:\")\n",
    "print(missing_values)"
   ]
  },
  {
   "cell_type": "code",
   "execution_count": null,
   "id": "84b7928f",
   "metadata": {},
   "outputs": [],
   "source": [
    "# Conta o número total de valores NaN no DataFrame\n",
    "num_nan = df.isnull().sum().sum()\n",
    "print(f\"Número total de valores NaN: {num_nan}\")\n",
    "\n",
    "# Conta o número total de valores nulos (incluindo None) no DataFrame\n",
    "num_null = df.isna().sum().sum()\n",
    "print(f\"Número total de valores nulos: {num_null}\")"
   ]
  },
  {
   "cell_type": "code",
   "execution_count": null,
   "id": "124d72bc",
   "metadata": {},
   "outputs": [],
   "source": [
    "# Verifica se existem valores duplicados\n",
    "num_duplicates = df.duplicated().sum()\n",
    "print(f\"Número de linhas duplicadas: {num_duplicates}\")"
   ]
  },
  {
   "cell_type": "code",
   "execution_count": null,
   "id": "a9230a91",
   "metadata": {},
   "outputs": [],
   "source": [
    "# Exibe amostra de linhas duplicadas, caso exista\n",
    "if num_duplicates > 0:\n",
    "    print(\"Exemplo de linhas duplicadas:\")\n",
    "    display(df[df.duplicated()])"
   ]
  }
 ],
 "metadata": {
  "kernelspec": {
   "display_name": ".venv",
   "language": "python",
   "name": "python3"
  },
  "language_info": {
   "codemirror_mode": {
    "name": "ipython",
    "version": 3
   },
   "file_extension": ".py",
   "mimetype": "text/x-python",
   "name": "python",
   "nbconvert_exporter": "python",
   "pygments_lexer": "ipython3",
   "version": "3.11.2"
  }
 },
 "nbformat": 4,
 "nbformat_minor": 5
}
