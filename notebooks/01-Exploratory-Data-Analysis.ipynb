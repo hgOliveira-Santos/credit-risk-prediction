{
 "cells": [
  {
   "cell_type": "markdown",
   "id": "f0850e9f",
   "metadata": {},
   "source": [
    "# Projeto - Previsão de Risco de Crédito\n",
    "\n",
    "## 1. Introdução\n",
    "\n",
    "A análise de risco de crédito é um dos problemas mais clássicos e de maior impacto no setor financeiro. A concessão de crédito, seja para pessoas físicas ou jurídicas, é a base da atividade bancária, mas carrega consigo o risco inerente da inadimplência. Uma decisão de crédito equivocada pode levar a perdas financeiras significativas, enquanto uma política excessivamente conservadora pode resultar na perda de bons clientes e oportunidades de negócio valiosas.\n",
    "\n",
    "Neste contexto, a ciência de dados emerge como uma ferramenta estratégica, permitindo que as instituições financeiras migrem de análises subjetivas e manuais para modelos preditivos objetivos, consistentes e escaláveis.\n",
    "\n",
    "### 1.1. Descrição do problema\n",
    "\n",
    "O problema central consiste em desenvolver um sistema inteligente capaz de classificar novos solicitantes de crédito em duas categorias: \"bom risco\" (provável que pague o empréstimo) e \"mau risco\" (provável que não pague o empréstimo).\n",
    "\n",
    "Para esta análise, será utilizado conjunto de dados Statlog (German Credit Data), proveniente do repositório da UCI. Este dataset contém informações sobre 1.000 solicitantes de crédito na Alemanha, cada um descrito por 20 atributos, que incluem:\n",
    "\n",
    "> Informações demográficas: idade, sexo, status civil.\n",
    "> \n",
    "> Informações financeiras: status da conta corrente, histórico de crédito, valor e propósito do empréstimo, existência de poupança.\n",
    "> \n",
    "> Informações profissionais e de moradia: tempo de emprego, tipo de trabalho, tipo de moradia.\n",
    "\n",
    "A variável-alvo, risk, é binária, indicando se o cliente foi classificado como um bom ou mau pagador. Um desafio técnico relevante neste dataset é o desbalanceamento de classes, onde o número de \"bons pagadores\" é significativamente maior que o de \"maus pagadores\". Modelos treinados em dados desbalanceados podem se tornar tendenciosos, o que pode fazê-los performar mal ao identificar a classe minoritária, que é justamente a mais crítica para o negócio.\n",
    "\n",
    "### 1.2. Objetivo\n",
    "\n",
    "O objetivo principal deste projeto é construir um modelo de machine learning de classificação binária que preveja com alta acurácia e, mais importante, com alto poder de discriminação, a probabilidade de um solicitante de crédito se tornar inadimplente."
   ]
  },
  {
   "cell_type": "markdown",
   "id": "2bd60b51",
   "metadata": {},
   "source": [
    "## 2. Configuração do Ambiente "
   ]
  },
  {
   "cell_type": "markdown",
   "id": "372d508d",
   "metadata": {},
   "source": [
    "### 2.1 Importação de Bibliotecas"
   ]
  },
  {
   "cell_type": "code",
   "execution_count": 1,
   "id": "d75cdb54",
   "metadata": {},
   "outputs": [],
   "source": [
    "import pandas as pd\n",
    "import numpy as np\n",
    "import skrub\n",
    "import logging\n",
    "import matplotlib.pyplot as plt\n",
    "import seaborn as sns\n",
    "\n",
    "from src.data_ingestion import ingest_credit_data\n",
    "from src import config"
   ]
  },
  {
   "cell_type": "markdown",
   "id": "1b33598f",
   "metadata": {},
   "source": [
    "## 3. Carregamento dos Dados"
   ]
  },
  {
   "cell_type": "markdown",
   "id": "86516d4e",
   "metadata": {},
   "source": [
    "### 3.1. Leitura do Conjunto de Dados"
   ]
  },
  {
   "cell_type": "code",
   "execution_count": 30,
   "id": "7f757d40",
   "metadata": {},
   "outputs": [
    {
     "name": "stdout",
     "output_type": "stream",
     "text": [
      "2025-10-25 15:19:05 - INFO - >>> INICIANDO O PIPELINE DE INGESTÃO DE DADOS <<<\n",
      "2025-10-25 15:19:05 - INFO - Iniciando download de https://archive.ics.uci.edu/static/public/144/statlog+german+credit+data.zip\n",
      "2025-10-25 15:19:06 - INFO - Arquivos extraídos com sucesso para: C:\\Users\\user\\OneDrive\\Documentos\\HG\\Projetos\\Data-Science\\credit-risk-prediction\\data\\raw\n",
      "2025-10-25 15:19:06 - INFO - Procurando por arquivo '.data' em 'C:\\Users\\user\\OneDrive\\Documentos\\HG\\Projetos\\Data-Science\\credit-risk-prediction\\data\\raw'...\n",
      "2025-10-25 15:19:06 - INFO - Arquivo alvo encontrado: 'german.data'\n",
      "2025-10-25 15:19:06 - INFO - Arquivo renomeado para: 'credit_data.data'\n",
      "2025-10-25 15:19:06 - INFO - Arquivo movido para: 'C:\\Users\\user\\OneDrive\\Documentos\\HG\\Projetos\\Data-Science\\credit-risk-prediction\\data\\processed'\n",
      "2025-10-25 15:19:06 - INFO - Arquivo extra 'german.data-numeric' removido.\n",
      "2025-10-25 15:19:06 - INFO - Arquivo extra 'german.doc' removido.\n",
      "2025-10-25 15:19:06 - INFO - Arquivo extra 'Index' removido.\n",
      "2025-10-25 15:19:06 - INFO - Carregando dados de 'C:\\Users\\user\\OneDrive\\Documentos\\HG\\Projetos\\Data-Science\\credit-risk-prediction\\data\\processed\\credit_data.data' para o DataFrame.\n",
      "2025-10-25 15:19:07 - INFO - DataFrame carregado com sucesso.\n",
      "2025-10-25 15:19:07 - INFO - >>> PIPELINE DE INGESTÃO DE DADOS CONCLUÍDO COM SUCESSO <<<\n"
     ]
    }
   ],
   "source": [
    "# Utiliza a URL definida no arquivo de configuração\n",
    "url = config.GERMAN_CREDIT_ZIP_URL\n",
    "\n",
    "# Carrega o arquivo através da URL\n",
    "df = ingest_credit_data(url, True)"
   ]
  },
  {
   "cell_type": "markdown",
   "id": "eb6a779e",
   "metadata": {},
   "source": [
    "### 3.2. Visualização Inicial"
   ]
  },
  {
   "cell_type": "code",
   "execution_count": 3,
   "id": "527a98fd",
   "metadata": {},
   "outputs": [
    {
     "name": "stderr",
     "output_type": "stream",
     "text": [
      "Processing column  21 / 21\n"
     ]
    }
   ],
   "source": [
    "# Gera um relatório exploratório interativo da tabela utilizando o TableReport do pacote skrub,\n",
    "# que será exibido no navegador. Os logs são temporariamente ocultados durante sua criação.\n",
    "logging.getLogger().setLevel(logging.ERROR)\n",
    "skrub.TableReport(df).open()\n",
    "logging.getLogger().setLevel(logging.INFO)"
   ]
  },
  {
   "cell_type": "markdown",
   "id": "2fcb8613",
   "metadata": {},
   "source": [
    "## 4. Limpeza dos Dados\n",
    "\n",
    "Verificação de dados ausentes, nulos e duplicados."
   ]
  },
  {
   "cell_type": "code",
   "execution_count": 4,
   "id": "7c6cb3de",
   "metadata": {},
   "outputs": [
    {
     "name": "stdout",
     "output_type": "stream",
     "text": [
      "Valores ausentes por coluna:\n",
      "checking_account_status       0\n",
      "duration_in_month             0\n",
      "credit_history                0\n",
      "purpose                       0\n",
      "credit_amount                 0\n",
      "savings_account_bonds         0\n",
      "present_employment_since      0\n",
      "installment_rate_percent      0\n",
      "personal_status_and_sex       0\n",
      "other_debtors_guarantors      0\n",
      "present_residence_since       0\n",
      "property                      0\n",
      "age_in_years                  0\n",
      "other_installment_plans       0\n",
      "housing                       0\n",
      "number_of_existing_credits    0\n",
      "job                           0\n",
      "number_of_dependents          0\n",
      "telephone                     0\n",
      "foreign_worker                0\n",
      "risk                          0\n",
      "dtype: int64\n"
     ]
    }
   ],
   "source": [
    "# Verifica o número de valores ausentes por coluna\n",
    "missing_values = df.isnull().sum()\n",
    "print(\"Valores ausentes por coluna:\")\n",
    "print(missing_values)"
   ]
  },
  {
   "cell_type": "code",
   "execution_count": 5,
   "id": "84b7928f",
   "metadata": {},
   "outputs": [
    {
     "name": "stdout",
     "output_type": "stream",
     "text": [
      "Número total de valores NaN: 0\n",
      "Número total de valores nulos: 0\n"
     ]
    }
   ],
   "source": [
    "# Conta o número total de valores NaN no DataFrame\n",
    "num_nan = df.isnull().sum().sum()\n",
    "print(f\"Número total de valores NaN: {num_nan}\")\n",
    "\n",
    "# Conta o número total de valores nulos (incluindo None) no DataFrame\n",
    "num_null = df.isna().sum().sum()\n",
    "print(f\"Número total de valores nulos: {num_null}\")"
   ]
  },
  {
   "cell_type": "code",
   "execution_count": 6,
   "id": "124d72bc",
   "metadata": {},
   "outputs": [
    {
     "name": "stdout",
     "output_type": "stream",
     "text": [
      "Número de linhas duplicadas: 0\n"
     ]
    }
   ],
   "source": [
    "# Verifica se existem valores duplicados\n",
    "num_duplicates = df.duplicated().sum()\n",
    "print(f\"Número de linhas duplicadas: {num_duplicates}\")"
   ]
  },
  {
   "cell_type": "code",
   "execution_count": 7,
   "id": "a9230a91",
   "metadata": {},
   "outputs": [],
   "source": [
    "# Exibe amostra de linhas duplicadas, caso exista\n",
    "if num_duplicates > 0:\n",
    "    print(\"Exemplo de linhas duplicadas:\")\n",
    "    display(df[df.duplicated()])"
   ]
  },
  {
   "cell_type": "markdown",
   "id": "b38fb1bc",
   "metadata": {},
   "source": [
    "## 5. Análise da Variável Alvo"
   ]
  },
  {
   "cell_type": "markdown",
   "id": "714eebd5",
   "metadata": {},
   "source": [
    "### 5.1. Mapeamento da Variável Alvo\n",
    "\n",
    "Conversão dos valores originais (1, que representa 'bom risco', e 2, que representa 'mau risco') para o formato binário padrão 0 e 1, em que 0 representa o 'mau risco' e 1 representa o 'bom risco'."
   ]
  },
  {
   "cell_type": "code",
   "execution_count": null,
   "id": "e7c87fad",
   "metadata": {},
   "outputs": [
    {
     "name": "stdout",
     "output_type": "stream",
     "text": [
      "Valores possíveis na variável 'risk' antes do mapeamento:\n",
      "[1, 2]\n",
      "\n",
      "Legenda:\n",
      "1 = Bom risco\n",
      "2 = Mau risco\n",
      "\n",
      "Valores possíveis na variável 'risk' após o mapeamento:\n",
      "[0, 1]\n",
      "\n",
      "Legenda:\n",
      "0 = Mau risco\n",
      "1 = Bom risco\n"
     ]
    }
   ],
   "source": [
    "# Exibe os valores únicos originalmente presentes na coluna 'risk'\n",
    "print(\"Valores possíveis na variável 'risk' antes do mapeamento:\")\n",
    "print([int(x) for x in sorted(df['risk'].unique())])\n",
    "print()\n",
    "print(\"Legenda:\")\n",
    "print(\"1 = Bom risco\")\n",
    "print(\"2 = Mau risco\")\n",
    "print()\n",
    "\n",
    "# Realiza o mapeamento: 1 (bom risco) -> 1, 2 (mau risco) -> 0\n",
    "df['risk'] = df['risk'].map({1: 1, 2: 0})\n",
    "\n",
    "# Exibe os valores únicos após o mapeamento\n",
    "print(\"Valores possíveis na variável 'risk' após o mapeamento:\")\n",
    "print([int(x) for x in sorted(df['risk'].unique())])\n",
    "print()\n",
    "print(\"Legenda:\")\n",
    "print(\"0 = Mau risco\")\n",
    "print(\"1 = Bom risco\")"
   ]
  },
  {
   "cell_type": "markdown",
   "id": "57f00f0c",
   "metadata": {},
   "source": [
    "### 5.2. Análise da Distribuição"
   ]
  },
  {
   "cell_type": "code",
   "execution_count": 34,
   "id": "f933e00f",
   "metadata": {},
   "outputs": [
    {
     "data": {
      "image/png": "[encoded data removed]",
      "text/plain": [
       "<Figure size 600x600 with 1 Axes>"
      ]
     },
     "metadata": {},
     "output_type": "display_data"
    },
    {
     "name": "stdout",
     "output_type": "stream",
     "text": [
      "Distribuição:\n",
      "risk\n",
      "0    300\n",
      "1    700\n",
      "Name: count, dtype: int64\n",
      "\n",
      "Legenda:\n",
      "0 = Mau risco\n",
      "1 = Bom risco\n"
     ]
    }
   ],
   "source": [
    "# Plota um gráfico de setores que mostra a distribuição das classes da variável alvo 'risk'.\n",
    "risk_counts = df['risk'].value_counts().sort_index()  \n",
    "labels = ['Mau risco' if v==0 else 'Bom risco' for v in risk_counts.index]\n",
    "sizes = risk_counts.values\n",
    "colors = ['#F44336', '#2196F3']\n",
    "\n",
    "plt.figure(figsize=(6,6))\n",
    "plt.pie(\n",
    "    sizes, \n",
    "    labels=labels, \n",
    "    autopct='%1.1f%%', \n",
    "    startangle=90, \n",
    "    colors=colors, \n",
    "    wedgeprops={'edgecolor': 'white'}\n",
    ")\n",
    "plt.title('Distribuição da variável \"risk\"')\n",
    "plt.axis('equal')\n",
    "plt.show()\n",
    "\n",
    "# Verifica a distribuição dos valores de da variável alvo'risk'.\n",
    "print(\"Distribuição:\")\n",
    "print(df['risk'].value_counts().sort_index())\n",
    "print()\n",
    "print(\"Legenda:\")\n",
    "print(\"0 = Mau risco\")\n",
    "print(\"1 = Bom risco\")\n"
   ]
  },
  {
   "cell_type": "markdown",
   "id": "746c150e",
   "metadata": {},
   "source": [
    "Com base nesses dados, percebe-se que, a classe majoritária, 'bom risco', compõe 70% das amostras, enquanto a classe minoritária, 'mau risco', representa os 30% restantes.\n",
    "\n",
    "#### Análise do Desbalanceamento\n",
    "\n",
    "Razão de desbalanceamento (Imbalance ratio):\n",
    "\n",
    "IR = Classe majoritária / Classe minoritária = 700/300 = `2.33`\n",
    "\n",
    "Esse valor indica um desbalanceamento leve, mas, ainda assim, é necessário uma atenção durante a modelagem para evitar um possível viés que favoreça a classe majoritária. \n",
    "\n",
    "##### Implicações para o negócio\n",
    "\n",
    "- Aproximadamente 1 a cada 3 solicitantes de crédito é considerado 'mau risco'.\n",
    "- A taxa de 30% é considerável, o que justifica o investimento em modelos preditivos para minimizar os erros de previsão do risco de crédito.\n",
    "\n",
    "##### Implicações para a modelagem\n",
    "\n",
    "- Apesar do desbalanceamento leve, será uma boa prática utilizar técnicas de balanceamento, para garantir que o modelo aprenda adequadamente os padrões da classe minoritária ('mau risco').\n",
    "- Utilizar métricas alternativas para a avaliação do modelo.\n",
    "\n",
    "#### Custos de Erros\n",
    "\n",
    "- **Falso negativo**: Classificar um \"mau pagador\" como \"bom pagador\". Possui alto custo financeiro. \n",
    "- **Falso positivo**: Classificar um \"bom pagador\" como \"mau pagador\". Representa a perda de uma oportunidade de negócio.\n",
    "\n",
    "É essencial que o modelo priorize a identificação correta de \"maus pagadores\", mesmo que isso signifique aumentar o número de falsos positivos."
   ]
  }
 ],
 "metadata": {
  "kernelspec": {
   "display_name": ".venv",
   "language": "python",
   "name": "python3"
  },
  "language_info": {
   "codemirror_mode": {
    "name": "ipython",
    "version": 3
   },
   "file_extension": ".py",
   "mimetype": "text/x-python",
   "name": "python",
   "nbconvert_exporter": "python",
   "pygments_lexer": "ipython3",
   "version": "3.11.2"
  }
 },
 "nbformat": 4,
 "nbformat_minor": 5
}
